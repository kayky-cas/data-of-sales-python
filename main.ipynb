{
 "cells": [
  {
   "cell_type": "code",
   "execution_count": 728,
   "metadata": {},
   "outputs": [],
   "source": [
    "import pandas as pd\n"
   ]
  },
  {
   "cell_type": "code",
   "execution_count": 729,
   "metadata": {},
   "outputs": [
    {
     "data": {
      "text/html": [
       "<div>\n",
       "<style scoped>\n",
       "    .dataframe tbody tr th:only-of-type {\n",
       "        vertical-align: middle;\n",
       "    }\n",
       "\n",
       "    .dataframe tbody tr th {\n",
       "        vertical-align: top;\n",
       "    }\n",
       "\n",
       "    .dataframe thead th {\n",
       "        text-align: right;\n",
       "    }\n",
       "</style>\n",
       "<table border=\"1\" class=\"dataframe\">\n",
       "  <thead>\n",
       "    <tr style=\"text-align: right;\">\n",
       "      <th></th>\n",
       "      <th>Segment</th>\n",
       "      <th>Country</th>\n",
       "      <th>Product</th>\n",
       "      <th>Discount Band</th>\n",
       "      <th>Units Sold</th>\n",
       "      <th>Manufacturing Price</th>\n",
       "      <th>Sale Price</th>\n",
       "      <th>Gross Sales</th>\n",
       "      <th>Discounts</th>\n",
       "      <th>Sales</th>\n",
       "      <th>COGS</th>\n",
       "      <th>Profit</th>\n",
       "      <th>Date</th>\n",
       "      <th>Month Number</th>\n",
       "      <th>Month Name</th>\n",
       "      <th>Year</th>\n",
       "    </tr>\n",
       "  </thead>\n",
       "  <tbody>\n",
       "    <tr>\n",
       "      <th>0</th>\n",
       "      <td>Government</td>\n",
       "      <td>Canada</td>\n",
       "      <td>Carretera</td>\n",
       "      <td>None</td>\n",
       "      <td>1618.5</td>\n",
       "      <td>3</td>\n",
       "      <td>20</td>\n",
       "      <td>32370.0</td>\n",
       "      <td>0.00</td>\n",
       "      <td>32370.00</td>\n",
       "      <td>16185.0</td>\n",
       "      <td>16185.00</td>\n",
       "      <td>2014-01-01</td>\n",
       "      <td>1</td>\n",
       "      <td>January</td>\n",
       "      <td>2014</td>\n",
       "    </tr>\n",
       "    <tr>\n",
       "      <th>1</th>\n",
       "      <td>Government</td>\n",
       "      <td>Germany</td>\n",
       "      <td>Carretera</td>\n",
       "      <td>None</td>\n",
       "      <td>1321.0</td>\n",
       "      <td>3</td>\n",
       "      <td>20</td>\n",
       "      <td>26420.0</td>\n",
       "      <td>0.00</td>\n",
       "      <td>26420.00</td>\n",
       "      <td>13210.0</td>\n",
       "      <td>13210.00</td>\n",
       "      <td>2014-01-01</td>\n",
       "      <td>1</td>\n",
       "      <td>January</td>\n",
       "      <td>2014</td>\n",
       "    </tr>\n",
       "    <tr>\n",
       "      <th>2</th>\n",
       "      <td>Midmarket</td>\n",
       "      <td>France</td>\n",
       "      <td>Carretera</td>\n",
       "      <td>None</td>\n",
       "      <td>2178.0</td>\n",
       "      <td>3</td>\n",
       "      <td>15</td>\n",
       "      <td>32670.0</td>\n",
       "      <td>0.00</td>\n",
       "      <td>32670.00</td>\n",
       "      <td>21780.0</td>\n",
       "      <td>10890.00</td>\n",
       "      <td>2014-06-01</td>\n",
       "      <td>6</td>\n",
       "      <td>June</td>\n",
       "      <td>2014</td>\n",
       "    </tr>\n",
       "    <tr>\n",
       "      <th>3</th>\n",
       "      <td>Midmarket</td>\n",
       "      <td>Germany</td>\n",
       "      <td>Carretera</td>\n",
       "      <td>None</td>\n",
       "      <td>888.0</td>\n",
       "      <td>3</td>\n",
       "      <td>15</td>\n",
       "      <td>13320.0</td>\n",
       "      <td>0.00</td>\n",
       "      <td>13320.00</td>\n",
       "      <td>8880.0</td>\n",
       "      <td>4440.00</td>\n",
       "      <td>2014-06-01</td>\n",
       "      <td>6</td>\n",
       "      <td>June</td>\n",
       "      <td>2014</td>\n",
       "    </tr>\n",
       "    <tr>\n",
       "      <th>4</th>\n",
       "      <td>Midmarket</td>\n",
       "      <td>Mexico</td>\n",
       "      <td>Carretera</td>\n",
       "      <td>None</td>\n",
       "      <td>2470.0</td>\n",
       "      <td>3</td>\n",
       "      <td>15</td>\n",
       "      <td>37050.0</td>\n",
       "      <td>0.00</td>\n",
       "      <td>37050.00</td>\n",
       "      <td>24700.0</td>\n",
       "      <td>12350.00</td>\n",
       "      <td>2014-06-01</td>\n",
       "      <td>6</td>\n",
       "      <td>June</td>\n",
       "      <td>2014</td>\n",
       "    </tr>\n",
       "    <tr>\n",
       "      <th>...</th>\n",
       "      <td>...</td>\n",
       "      <td>...</td>\n",
       "      <td>...</td>\n",
       "      <td>...</td>\n",
       "      <td>...</td>\n",
       "      <td>...</td>\n",
       "      <td>...</td>\n",
       "      <td>...</td>\n",
       "      <td>...</td>\n",
       "      <td>...</td>\n",
       "      <td>...</td>\n",
       "      <td>...</td>\n",
       "      <td>...</td>\n",
       "      <td>...</td>\n",
       "      <td>...</td>\n",
       "      <td>...</td>\n",
       "    </tr>\n",
       "    <tr>\n",
       "      <th>695</th>\n",
       "      <td>Small Business</td>\n",
       "      <td>France</td>\n",
       "      <td>Amarilla</td>\n",
       "      <td>High</td>\n",
       "      <td>2475.0</td>\n",
       "      <td>260</td>\n",
       "      <td>300</td>\n",
       "      <td>742500.0</td>\n",
       "      <td>111375.00</td>\n",
       "      <td>631125.00</td>\n",
       "      <td>618750.0</td>\n",
       "      <td>12375.00</td>\n",
       "      <td>2014-03-01</td>\n",
       "      <td>3</td>\n",
       "      <td>March</td>\n",
       "      <td>2014</td>\n",
       "    </tr>\n",
       "    <tr>\n",
       "      <th>696</th>\n",
       "      <td>Small Business</td>\n",
       "      <td>Mexico</td>\n",
       "      <td>Amarilla</td>\n",
       "      <td>High</td>\n",
       "      <td>546.0</td>\n",
       "      <td>260</td>\n",
       "      <td>300</td>\n",
       "      <td>163800.0</td>\n",
       "      <td>24570.00</td>\n",
       "      <td>139230.00</td>\n",
       "      <td>136500.0</td>\n",
       "      <td>2730.00</td>\n",
       "      <td>2014-10-01</td>\n",
       "      <td>10</td>\n",
       "      <td>October</td>\n",
       "      <td>2014</td>\n",
       "    </tr>\n",
       "    <tr>\n",
       "      <th>697</th>\n",
       "      <td>Government</td>\n",
       "      <td>Mexico</td>\n",
       "      <td>Montana</td>\n",
       "      <td>High</td>\n",
       "      <td>1368.0</td>\n",
       "      <td>5</td>\n",
       "      <td>7</td>\n",
       "      <td>9576.0</td>\n",
       "      <td>1436.40</td>\n",
       "      <td>8139.60</td>\n",
       "      <td>6840.0</td>\n",
       "      <td>1299.60</td>\n",
       "      <td>2014-02-01</td>\n",
       "      <td>2</td>\n",
       "      <td>February</td>\n",
       "      <td>2014</td>\n",
       "    </tr>\n",
       "    <tr>\n",
       "      <th>698</th>\n",
       "      <td>Government</td>\n",
       "      <td>Canada</td>\n",
       "      <td>Paseo</td>\n",
       "      <td>High</td>\n",
       "      <td>723.0</td>\n",
       "      <td>10</td>\n",
       "      <td>7</td>\n",
       "      <td>5061.0</td>\n",
       "      <td>759.15</td>\n",
       "      <td>4301.85</td>\n",
       "      <td>3615.0</td>\n",
       "      <td>686.85</td>\n",
       "      <td>2014-04-01</td>\n",
       "      <td>4</td>\n",
       "      <td>April</td>\n",
       "      <td>2014</td>\n",
       "    </tr>\n",
       "    <tr>\n",
       "      <th>699</th>\n",
       "      <td>Channel Partners</td>\n",
       "      <td>United States of America</td>\n",
       "      <td>VTT</td>\n",
       "      <td>High</td>\n",
       "      <td>1806.0</td>\n",
       "      <td>250</td>\n",
       "      <td>12</td>\n",
       "      <td>21672.0</td>\n",
       "      <td>3250.80</td>\n",
       "      <td>18421.20</td>\n",
       "      <td>5418.0</td>\n",
       "      <td>13003.20</td>\n",
       "      <td>2014-05-01</td>\n",
       "      <td>5</td>\n",
       "      <td>May</td>\n",
       "      <td>2014</td>\n",
       "    </tr>\n",
       "  </tbody>\n",
       "</table>\n",
       "<p>700 rows × 16 columns</p>\n",
       "</div>"
      ],
      "text/plain": [
       "              Segment                   Country    Product Discount Band  \\\n",
       "0          Government                    Canada  Carretera          None   \n",
       "1          Government                   Germany  Carretera          None   \n",
       "2           Midmarket                    France  Carretera          None   \n",
       "3           Midmarket                   Germany  Carretera          None   \n",
       "4           Midmarket                    Mexico  Carretera          None   \n",
       "..                ...                       ...        ...           ...   \n",
       "695    Small Business                    France   Amarilla          High   \n",
       "696    Small Business                    Mexico   Amarilla          High   \n",
       "697        Government                    Mexico    Montana          High   \n",
       "698        Government                    Canada      Paseo          High   \n",
       "699  Channel Partners  United States of America        VTT          High   \n",
       "\n",
       "     Units Sold  Manufacturing Price  Sale Price  Gross Sales  Discounts  \\\n",
       "0        1618.5                    3          20      32370.0       0.00   \n",
       "1        1321.0                    3          20      26420.0       0.00   \n",
       "2        2178.0                    3          15      32670.0       0.00   \n",
       "3         888.0                    3          15      13320.0       0.00   \n",
       "4        2470.0                    3          15      37050.0       0.00   \n",
       "..          ...                  ...         ...          ...        ...   \n",
       "695      2475.0                  260         300     742500.0  111375.00   \n",
       "696       546.0                  260         300     163800.0   24570.00   \n",
       "697      1368.0                    5           7       9576.0    1436.40   \n",
       "698       723.0                   10           7       5061.0     759.15   \n",
       "699      1806.0                  250          12      21672.0    3250.80   \n",
       "\n",
       "         Sales      COGS    Profit       Date  Month Number Month Name  Year  \n",
       "0     32370.00   16185.0  16185.00 2014-01-01             1    January  2014  \n",
       "1     26420.00   13210.0  13210.00 2014-01-01             1    January  2014  \n",
       "2     32670.00   21780.0  10890.00 2014-06-01             6       June  2014  \n",
       "3     13320.00    8880.0   4440.00 2014-06-01             6       June  2014  \n",
       "4     37050.00   24700.0  12350.00 2014-06-01             6       June  2014  \n",
       "..         ...       ...       ...        ...           ...        ...   ...  \n",
       "695  631125.00  618750.0  12375.00 2014-03-01             3      March  2014  \n",
       "696  139230.00  136500.0   2730.00 2014-10-01            10    October  2014  \n",
       "697    8139.60    6840.0   1299.60 2014-02-01             2   February  2014  \n",
       "698    4301.85    3615.0    686.85 2014-04-01             4      April  2014  \n",
       "699   18421.20    5418.0  13003.20 2014-05-01             5        May  2014  \n",
       "\n",
       "[700 rows x 16 columns]"
      ]
     },
     "execution_count": 729,
     "metadata": {},
     "output_type": "execute_result"
    }
   ],
   "source": [
    "xls_file = pd.ExcelFile('data.xls')\n",
    "\n",
    "table_data = xls_file.parse(0)\n",
    "table_data\n"
   ]
  },
  {
   "cell_type": "code",
   "execution_count": 730,
   "metadata": {},
   "outputs": [
    {
     "data": {
      "text/plain": [
       "array([['Government', 'Canada', 'Carretera', ..., 1, 'January', 2014],\n",
       "       ['Government', 'Germany', 'Carretera', ..., 1, 'January', 2014],\n",
       "       ['Midmarket', 'France', 'Carretera', ..., 6, 'June', 2014],\n",
       "       ...,\n",
       "       ['Government', 'Mexico', 'Montana', ..., 2, 'February', 2014],\n",
       "       ['Government', 'Canada', 'Paseo', ..., 4, 'April', 2014],\n",
       "       ['Channel Partners', 'United States of America', 'VTT', ..., 5,\n",
       "        'May', 2014]], dtype=object)"
      ]
     },
     "execution_count": 730,
     "metadata": {},
     "output_type": "execute_result"
    }
   ],
   "source": [
    "arr_data = table_data.values\n",
    "\n",
    "arr_data\n"
   ]
  },
  {
   "cell_type": "code",
   "execution_count": 731,
   "metadata": {},
   "outputs": [],
   "source": [
    "sales_position = 9\n",
    "region_position = 1\n",
    "product_position = 2\n",
    "year_position = 15"
   ]
  },
  {
   "cell_type": "code",
   "execution_count": 732,
   "metadata": {},
   "outputs": [
    {
     "name": "stdout",
     "output_type": "stream",
     "text": [
      "operation_years()={2013, 2014}\n"
     ]
    }
   ],
   "source": [
    "def operation_years():\n",
    "    obj_years = (i[year_position] for i in arr_data)\n",
    "    return set(obj_years)\n",
    "\n",
    "\n",
    "print(f\"{operation_years()=}\")\n"
   ]
  },
  {
   "cell_type": "code",
   "execution_count": 733,
   "metadata": {},
   "outputs": [
    {
     "name": "stdout",
     "output_type": "stream",
     "text": [
      "all_reagions()={'France', 'Germany', 'Mexico', 'United States of America', 'Canada'}\n"
     ]
    }
   ],
   "source": [
    "def all_reagions():\n",
    "    obj_region = (i[region_position] for i in arr_data)\n",
    "    return set(obj_region)\n",
    "\n",
    "\n",
    "print(f\"{all_reagions()=}\")\n"
   ]
  },
  {
   "cell_type": "code",
   "execution_count": 734,
   "metadata": {},
   "outputs": [
    {
     "name": "stdout",
     "output_type": "stream",
     "text": [
      "all_products()={'VTT', 'Amarilla', 'Paseo', 'Velo', 'Montana', 'Carretera'}\n"
     ]
    }
   ],
   "source": [
    "def all_products():\n",
    "    obj_product = (i[product_position] for i in arr_data)\n",
    "    return set(obj_product)\n",
    "\n",
    "\n",
    "print(f\"{all_products()=}\")\n"
   ]
  },
  {
   "cell_type": "code",
   "execution_count": 735,
   "metadata": {},
   "outputs": [
    {
     "name": "stdout",
     "output_type": "stream",
     "text": [
      "total_of_sales()=118726350.25999992\n"
     ]
    }
   ],
   "source": [
    "def total_of_sales():\n",
    "    obj_sales = (i[sales_position] for i in arr_data)\n",
    "    return sum(obj_sales)\n",
    "\n",
    "\n",
    "print(f\"{total_of_sales()=}\")"
   ]
  },
  {
   "cell_type": "code",
   "execution_count": 736,
   "metadata": {},
   "outputs": [
    {
     "name": "stdout",
     "output_type": "stream",
     "text": [
      "total_of_sales_by_year()={2014: 18421.2, 2013: 313862.5}\n"
     ]
    }
   ],
   "source": [
    "def total_of_sales_by_year():\n",
    "    obj_years = (i[year_position] for i in arr_data)\n",
    "    obj_sales = (i[sales_position] for i in arr_data)\n",
    "    return dict(zip(obj_years, obj_sales))\n",
    "\n",
    "print(f\"{total_of_sales_by_year()=}\")"
   ]
  },
  {
   "cell_type": "code",
   "execution_count": 737,
   "metadata": {},
   "outputs": [
    {
     "name": "stdout",
     "output_type": "stream",
     "text": [
      "total_of_sales_by_region()={'Canada': 4301.85, 'Germany': 58650.0, 'France': 631125.0, 'Mexico': 8139.6, 'United States of America': 18421.2}\n"
     ]
    }
   ],
   "source": [
    "def total_of_sales_by_region():\n",
    "    obj_sales = (i[sales_position] for i in arr_data)\n",
    "    obj_region = (i[region_position] for i in arr_data)\n",
    "    return dict(zip(obj_region, obj_sales))\n",
    "\n",
    "\n",
    "print(f\"{total_of_sales_by_region()=}\")\n"
   ]
  },
  {
   "cell_type": "code",
   "execution_count": 738,
   "metadata": {},
   "outputs": [
    {
     "name": "stdout",
     "output_type": "stream",
     "text": [
      "total_of_sales_by_product()={'Carretera': 115281.25, 'Montana': 8139.6, 'Paseo': 4301.85, 'Velo': 9322.8, 'VTT': 18421.2, 'Amarilla': 139230.0}\n"
     ]
    }
   ],
   "source": [
    "def total_of_sales_by_product():\n",
    "    obj_sales = (i[sales_position] for i in arr_data)\n",
    "    obj_product = (i[product_position] for i in arr_data)\n",
    "    return dict(zip(obj_product, obj_sales))\n",
    "\n",
    "\n",
    "print(f\"{total_of_sales_by_product()=}\")\n"
   ]
  },
  {
   "cell_type": "code",
   "execution_count": 739,
   "metadata": {},
   "outputs": [
    {
     "name": "stdout",
     "output_type": "stream",
     "text": [
      "region='France'\n",
      "total_of_sales_by_region_and_product(region)={'Carretera': 124737.5, 'Montana': 1763.8600000000001, 'Paseo': 4981.0, 'Velo': 70443.75, 'VTT': 4981.0, 'Amarilla': 631125.0}\n",
      "\n",
      "\n",
      "region='Germany'\n",
      "total_of_sales_by_region_and_product(region)={'Carretera': 115281.25, 'Montana': 360899.0, 'Paseo': 14981.25, 'Velo': 654288.0, 'VTT': 58650.0, 'Amarilla': 18478.8}\n",
      "\n",
      "\n",
      "region='Mexico'\n",
      "total_of_sales_by_region_and_product(region)={'Carretera': 303257.5, 'Montana': 8139.6, 'Paseo': 639922.5, 'Velo': 5100.0, 'VTT': 17476.06, 'Amarilla': 139230.0}\n",
      "\n",
      "\n",
      "region='United States of America'\n",
      "total_of_sales_by_region_and_product(region)={'Montana': 18035.92, 'Paseo': 9322.8, 'Velo': 9322.8, 'Amarilla': 30072.48, 'Carretera': 260580.0, 'VTT': 18421.2}\n",
      "\n",
      "\n",
      "region='Canada'\n",
      "total_of_sales_by_region_and_product(region)={'Carretera': 29670.0, 'Montana': 29670.0, 'Paseo': 4301.85, 'Velo': 69402.0, 'VTT': 313862.5, 'Amarilla': 22484.7}\n",
      "\n",
      "\n"
     ]
    }
   ],
   "source": [
    "def total_of_sales_by_region_and_product(region):\n",
    "    obj_sales = (i[sales_position]\n",
    "                 for i in arr_data if i[region_position] == region)\n",
    "    obj_product = (i[product_position]\n",
    "                   for i in arr_data if i[region_position] == region)\n",
    "    return dict(zip(obj_product, obj_sales))\n",
    "\n",
    "\n",
    "for region in all_reagions():\n",
    "    print(f\"{region=}\")\n",
    "    print(f\"{total_of_sales_by_region_and_product(region)=}\\n\\n\")\n"
   ]
  },
  {
   "cell_type": "code",
   "execution_count": 740,
   "metadata": {},
   "outputs": [
    {
     "name": "stdout",
     "output_type": "stream",
     "text": [
      "region='France'\n",
      "total_of_sales_by_region_and_year(region)={2014: 631125.0, 2013: 385581.0}\n",
      "\n",
      "\n",
      "region='Germany'\n",
      "total_of_sales_by_region_and_year(region)={2014: 58650.0, 2013: 654288.0}\n",
      "\n",
      "\n",
      "region='Mexico'\n",
      "total_of_sales_by_region_and_year(region)={2014: 8139.6, 2013: 639922.5}\n",
      "\n",
      "\n",
      "region='United States of America'\n",
      "total_of_sales_by_region_and_year(region)={2014: 18421.2, 2013: 4539.0}\n",
      "\n",
      "\n",
      "region='Canada'\n",
      "total_of_sales_by_region_and_year(region)={2014: 4301.85, 2013: 313862.5}\n",
      "\n",
      "\n"
     ]
    }
   ],
   "source": [
    "def total_of_sales_by_region_and_year(region):\n",
    "    obj_sales = (i[sales_position]\n",
    "                 for i in arr_data if i[region_position] == region)\n",
    "    obj_years = (i[year_position]\n",
    "                 for i in arr_data if i[region_position] == region)\n",
    "    return dict(zip(obj_years, obj_sales))\n",
    "\n",
    "for region in all_reagions():\n",
    "    print(f\"{region=}\")\n",
    "    print(f\"{total_of_sales_by_region_and_year(region)=}\\n\\n\")"
   ]
  },
  {
   "cell_type": "code",
   "execution_count": 741,
   "metadata": {},
   "outputs": [
    {
     "name": "stdout",
     "output_type": "stream",
     "text": [
      "year=2013\n",
      "total_of_sales_by_year_and_region(year)={'Canada': 313862.5, 'France': 385581.0, 'Mexico': 639922.5, 'United States of America': 4539.0, 'Germany': 654288.0}\n",
      "\n",
      "\n",
      "year=2014\n",
      "total_of_sales_by_year_and_region(year)={'Canada': 4301.85, 'Germany': 58650.0, 'France': 631125.0, 'Mexico': 8139.6, 'United States of America': 18421.2}\n",
      "\n",
      "\n"
     ]
    }
   ],
   "source": [
    "def total_of_sales_by_year_and_region(year):\n",
    "    obj_sales = (i[sales_position] for i in arr_data if i[year_position] == year)\n",
    "    obj_region = (i[region_position] for i in arr_data if i[year_position] == year)\n",
    "    return dict(zip(obj_region, obj_sales))\n",
    "\n",
    "for year in operation_years():\n",
    "    print(f\"{year=}\")\n",
    "    print(f\"{total_of_sales_by_year_and_region(year)=}\\n\\n\")"
   ]
  },
  {
   "cell_type": "code",
   "execution_count": 742,
   "metadata": {},
   "outputs": [
    {
     "name": "stdout",
     "output_type": "stream",
     "text": [
      "year=2013\n",
      "total_of_sales_by_year_and_product(year)={'Montana': 10396.54, 'Paseo': 639922.5, 'Velo': 259037.5, 'VTT': 313862.5, 'Carretera': 303257.5, 'Amarilla': 24123.0}\n",
      "\n",
      "\n",
      "year=2014\n",
      "total_of_sales_by_year_and_product(year)={'Carretera': 115281.25, 'Montana': 8139.6, 'Paseo': 4301.85, 'Velo': 9322.8, 'VTT': 18421.2, 'Amarilla': 139230.0}\n",
      "\n",
      "\n"
     ]
    }
   ],
   "source": [
    "def total_of_sales_by_year_and_product(year):\n",
    "    obj_sales = (i[sales_position] for i in arr_data if i[year_position] == year)\n",
    "    obj_product = (i[product_position] for i in arr_data if i[year_position] == year)\n",
    "    return dict(zip(obj_product, obj_sales))\n",
    "\n",
    "for year in operation_years():\n",
    "    print(f\"{year=}\")\n",
    "    print(f\"{total_of_sales_by_year_and_product(year)=}\\n\\n\")"
   ]
  },
  {
   "cell_type": "code",
   "execution_count": 743,
   "metadata": {},
   "outputs": [
    {
     "name": "stdout",
     "output_type": "stream",
     "text": [
      "region='France'\n",
      "year=2013\n",
      "total_of_sales_by_region_and_product_by_year(region, year)={'Paseo': 578522.0, 'VTT': 385581.0, 'Amarilla': 3341.52, 'Carretera': 109972.5, 'Velo': 49929.0, 'Montana': 313104.0}\n",
      "\n",
      "\n",
      "region='France'\n",
      "year=2014\n",
      "total_of_sales_by_region_and_product_by_year(region, year)={'Carretera': 124737.5, 'Montana': 1763.8600000000001, 'Velo': 70443.75, 'VTT': 4981.0, 'Amarilla': 631125.0, 'Paseo': 4981.0}\n",
      "\n",
      "\n",
      "region='Germany'\n",
      "year=2013\n",
      "total_of_sales_by_region_and_product_by_year(region, year)={'Carretera': 7690.8, 'Paseo': 53257.6, 'Velo': 654288.0, 'VTT': 589050.0, 'Amarilla': 18478.8, 'Montana': 53257.6}\n",
      "\n",
      "\n",
      "region='Germany'\n",
      "year=2014\n",
      "total_of_sales_by_region_and_product_by_year(region, year)={'Carretera': 115281.25, 'Montana': 360899.0, 'Paseo': 14981.25, 'Velo': 10575.72, 'VTT': 58650.0, 'Amarilla': 352106.25}\n",
      "\n",
      "\n",
      "region='Mexico'\n",
      "year=2013\n",
      "total_of_sales_by_region_and_product_by_year(region, year)={'Paseo': 639922.5, 'Carretera': 303257.5, 'VTT': 10733.4, 'Montana': 10396.54, 'Velo': 679905.0, 'Amarilla': 24123.0}\n",
      "\n",
      "\n",
      "region='Mexico'\n",
      "year=2014\n",
      "total_of_sales_by_region_and_product_by_year(region, year)={'Carretera': 206658.0, 'Montana': 8139.6, 'Paseo': 848172.5, 'Velo': 5100.0, 'VTT': 17476.06, 'Amarilla': 139230.0}\n",
      "\n",
      "\n",
      "region='United States of America'\n",
      "year=2013\n",
      "total_of_sales_by_region_and_product_by_year(region, year)={'Paseo': 597082.5, 'Carretera': 18035.92, 'Montana': 18035.92, 'Velo': 259037.5, 'Amarilla': 20794.8, 'VTT': 4539.0}\n",
      "\n",
      "\n",
      "region='United States of America'\n",
      "year=2014\n",
      "total_of_sales_by_region_and_product_by_year(region, year)={'Montana': 7904.82, 'Paseo': 9322.8, 'Velo': 9322.8, 'Amarilla': 30072.48, 'Carretera': 260580.0, 'VTT': 18421.2}\n",
      "\n",
      "\n",
      "region='Canada'\n",
      "year=2013\n",
      "total_of_sales_by_region_and_product_by_year(region, year)={'Montana': 10262.07, 'Paseo': 22931.04, 'Velo': 69402.0, 'Carretera': 265760.0, 'Amarilla': 22484.7, 'VTT': 313862.5}\n",
      "\n",
      "\n",
      "region='Canada'\n",
      "year=2014\n",
      "total_of_sales_by_region_and_product_by_year(region, year)={'Carretera': 29670.0, 'Montana': 29670.0, 'Paseo': 4301.85, 'VTT': 14713.5, 'Velo': 801444.0, 'Amarilla': 229104.0}\n",
      "\n",
      "\n"
     ]
    }
   ],
   "source": [
    "def total_of_sales_by_region_and_product_by_year(region, year):\n",
    "    obj_sales = (i[sales_position] for i in arr_data if i[region_position]\n",
    "                 == region and i[year_position] == year)\n",
    "    obj_product = (i[product_position] for i in arr_data if i[region_position]\n",
    "                   == region and i[year_position] == year)\n",
    "    return dict(zip(obj_product, obj_sales))\n",
    "\n",
    "\n",
    "for region in all_reagions():\n",
    "    for year in operation_years():\n",
    "        print(f\"{region=}\")\n",
    "        print(f\"{year=}\")\n",
    "        print(f\"{total_of_sales_by_region_and_product_by_year(region, year)=}\\n\\n\")\n"
   ]
  },
  {
   "cell_type": "code",
   "execution_count": 744,
   "metadata": {},
   "outputs": [
    {
     "name": "stdout",
     "output_type": "stream",
     "text": [
      "best_region_in_sales()='France'\n"
     ]
    }
   ],
   "source": [
    "def best_region_in_sales():\n",
    "    return max(total_of_sales_by_region(), key=total_of_sales_by_region().get)\n",
    "\n",
    "print(f\"{best_region_in_sales()=}\")"
   ]
  },
  {
   "cell_type": "code",
   "execution_count": 745,
   "metadata": {},
   "outputs": [
    {
     "name": "stdout",
     "output_type": "stream",
     "text": [
      "best_product_in_sales()='Amarilla'\n"
     ]
    }
   ],
   "source": [
    "def best_product_in_sales():\n",
    "    return max(total_of_sales_by_product(), key=total_of_sales_by_product().get)\n",
    "\n",
    "print(f\"{best_product_in_sales()=}\")"
   ]
  },
  {
   "cell_type": "code",
   "execution_count": 746,
   "metadata": {},
   "outputs": [
    {
     "name": "stdout",
     "output_type": "stream",
     "text": [
      "best_year_in_sales()=2013\n"
     ]
    }
   ],
   "source": [
    "def best_year_in_sales():\n",
    "    return max(total_of_sales_by_year(), key=total_of_sales_by_year().get)\n",
    "\n",
    "print(f\"{best_year_in_sales()=}\")"
   ]
  },
  {
   "cell_type": "code",
   "execution_count": 747,
   "metadata": {},
   "outputs": [
    {
     "name": "stdout",
     "output_type": "stream",
     "text": [
      "region='France'\n",
      "best_product_in_sales_by_region(region)='Amarilla'\n",
      "\n",
      "\n",
      "region='Germany'\n",
      "best_product_in_sales_by_region(region)='Velo'\n",
      "\n",
      "\n",
      "region='Mexico'\n",
      "best_product_in_sales_by_region(region)='Paseo'\n",
      "\n",
      "\n",
      "region='United States of America'\n",
      "best_product_in_sales_by_region(region)='Carretera'\n",
      "\n",
      "\n",
      "region='Canada'\n",
      "best_product_in_sales_by_region(region)='VTT'\n",
      "\n",
      "\n"
     ]
    }
   ],
   "source": [
    "def best_product_in_sales_by_region(region):\n",
    "    return max(total_of_sales_by_region_and_product(region),\n",
    "               key=total_of_sales_by_region_and_product(region).get)\n",
    "\n",
    "for region in all_reagions():\n",
    "    print(f\"{region=}\")\n",
    "    print(f\"{best_product_in_sales_by_region(region)=}\\n\\n\")"
   ]
  },
  {
   "cell_type": "code",
   "execution_count": 748,
   "metadata": {},
   "outputs": [
    {
     "name": "stdout",
     "output_type": "stream",
     "text": [
      "region='France'\n",
      "best_year_in_sales_by_region(region)=2014\n",
      "\n",
      "\n",
      "region='Germany'\n",
      "best_year_in_sales_by_region(region)=2013\n",
      "\n",
      "\n",
      "region='Mexico'\n",
      "best_year_in_sales_by_region(region)=2013\n",
      "\n",
      "\n",
      "region='United States of America'\n",
      "best_year_in_sales_by_region(region)=2014\n",
      "\n",
      "\n",
      "region='Canada'\n",
      "best_year_in_sales_by_region(region)=2013\n",
      "\n",
      "\n"
     ]
    }
   ],
   "source": [
    "def best_year_in_sales_by_region(region):\n",
    "    return max(total_of_sales_by_region_and_year(region),\n",
    "               key=total_of_sales_by_region_and_year(region).get)\n",
    "\n",
    "for region in all_reagions():\n",
    "    print(f\"{region=}\")\n",
    "    print(f\"{best_year_in_sales_by_region(region)=}\\n\\n\")\n",
    "       "
   ]
  },
  {
   "cell_type": "code",
   "execution_count": 749,
   "metadata": {},
   "outputs": [
    {
     "name": "stdout",
     "output_type": "stream",
     "text": [
      "year=2013\n",
      "best_region_by_year(year)='Germany'\n",
      "\n",
      "\n",
      "year=2014\n",
      "best_region_by_year(year)='France'\n",
      "\n",
      "\n"
     ]
    }
   ],
   "source": [
    "def best_region_by_year(year):\n",
    "    return max(total_of_sales_by_year_and_region(year),\n",
    "               key=total_of_sales_by_year_and_region(year).get)\n",
    "\n",
    "for year in operation_years():\n",
    "    print(f\"{year=}\")\n",
    "    print(f\"{best_region_by_year(year)=}\\n\\n\")"
   ]
  },
  {
   "cell_type": "code",
   "execution_count": 750,
   "metadata": {},
   "outputs": [
    {
     "name": "stdout",
     "output_type": "stream",
     "text": [
      "year=2013\n",
      "best_product_by_year(year)='Paseo'\n",
      "\n",
      "\n",
      "year=2014\n",
      "best_product_by_year(year)='Amarilla'\n",
      "\n",
      "\n"
     ]
    }
   ],
   "source": [
    "def best_product_by_year(year):\n",
    "    return max(total_of_sales_by_year_and_product(year),\n",
    "               key=total_of_sales_by_year_and_product(year).get)\n",
    "\n",
    "for year in operation_years():\n",
    "    print(f\"{year=}\")\n",
    "    print(f\"{best_product_by_year(year)=}\\n\\n\")"
   ]
  },
  {
   "cell_type": "code",
   "execution_count": 751,
   "metadata": {},
   "outputs": [
    {
     "name": "stdout",
     "output_type": "stream",
     "text": [
      "region='France'\n",
      "year=2013\n",
      "best_product_by_region_and_year(region, year)='Paseo'\n",
      "\n",
      "\n",
      "region='France'\n",
      "year=2014\n",
      "best_product_by_region_and_year(region, year)='Amarilla'\n",
      "\n",
      "\n",
      "region='Germany'\n",
      "year=2013\n",
      "best_product_by_region_and_year(region, year)='Velo'\n",
      "\n",
      "\n",
      "region='Germany'\n",
      "year=2014\n",
      "best_product_by_region_and_year(region, year)='Montana'\n",
      "\n",
      "\n",
      "region='Mexico'\n",
      "year=2013\n",
      "best_product_by_region_and_year(region, year)='Velo'\n",
      "\n",
      "\n",
      "region='Mexico'\n",
      "year=2014\n",
      "best_product_by_region_and_year(region, year)='Paseo'\n",
      "\n",
      "\n",
      "region='United States of America'\n",
      "year=2013\n",
      "best_product_by_region_and_year(region, year)='Paseo'\n",
      "\n",
      "\n",
      "region='United States of America'\n",
      "year=2014\n",
      "best_product_by_region_and_year(region, year)='Carretera'\n",
      "\n",
      "\n",
      "region='Canada'\n",
      "year=2013\n",
      "best_product_by_region_and_year(region, year)='VTT'\n",
      "\n",
      "\n",
      "region='Canada'\n",
      "year=2014\n",
      "best_product_by_region_and_year(region, year)='Velo'\n",
      "\n",
      "\n"
     ]
    }
   ],
   "source": [
    "def best_product_by_region_and_year(region, year):\n",
    "    return max(total_of_sales_by_region_and_product_by_year(region, year),\n",
    "               key=total_of_sales_by_region_and_product_by_year(region, year).get)\n",
    "\n",
    "for region in all_reagions():\n",
    "    for year in operation_years():\n",
    "        print(f\"{region=}\")\n",
    "        print(f\"{year=}\")\n",
    "        print(f\"{best_product_by_region_and_year(region, year)=}\\n\\n\")"
   ]
  }
 ],
 "metadata": {
  "interpreter": {
   "hash": "916dbcbb3f70747c44a77c7bcd40155683ae19c65e1c03b4aa3499c5328201f1"
  },
  "kernelspec": {
   "display_name": "Python 3.8.10 64-bit",
   "language": "python",
   "name": "python3"
  },
  "language_info": {
   "codemirror_mode": {
    "name": "ipython",
    "version": 3
   },
   "file_extension": ".py",
   "mimetype": "text/x-python",
   "name": "python",
   "nbconvert_exporter": "python",
   "pygments_lexer": "ipython3",
   "version": "3.8.10"
  },
  "orig_nbformat": 4
 },
 "nbformat": 4,
 "nbformat_minor": 2
}
